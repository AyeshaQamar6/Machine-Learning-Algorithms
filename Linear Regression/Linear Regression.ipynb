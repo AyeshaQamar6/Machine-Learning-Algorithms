{
 "cells": [
  {
   "cell_type": "markdown",
   "id": "e2314d4d",
   "metadata": {},
   "source": [
    "## Predicting profit of companies"
   ]
  },
  {
   "cell_type": "code",
   "execution_count": 1,
   "id": "271be51a",
   "metadata": {},
   "outputs": [],
   "source": [
    "# Importing libraries\n",
    "\n",
    "import numpy as np\n",
    "import pandas as pd\n",
    "import matplotlib.pyplot as plt\n",
    "import seaborn as sns\n",
    "%matplotlib inline"
   ]
  },
  {
   "cell_type": "code",
   "execution_count": 2,
   "id": "a4bfaff2",
   "metadata": {},
   "outputs": [],
   "source": [
    "# Importing dataset and extracting the independent and dependent variables\n",
    "companies = pd.read_csv('D:\\Machine Learning Bootcamp/Datasets/1000_Companies.csv')\n",
    "x = companies.iloc[:,:-1].values\n",
    "y = companies.iloc[:,4].values"
   ]
  },
  {
   "cell_type": "code",
   "execution_count": 3,
   "id": "af74088e",
   "metadata": {
    "scrolled": true
   },
   "outputs": [
    {
     "data": {
      "text/html": [
       "<div>\n",
       "<style scoped>\n",
       "    .dataframe tbody tr th:only-of-type {\n",
       "        vertical-align: middle;\n",
       "    }\n",
       "\n",
       "    .dataframe tbody tr th {\n",
       "        vertical-align: top;\n",
       "    }\n",
       "\n",
       "    .dataframe thead th {\n",
       "        text-align: right;\n",
       "    }\n",
       "</style>\n",
       "<table border=\"1\" class=\"dataframe\">\n",
       "  <thead>\n",
       "    <tr style=\"text-align: right;\">\n",
       "      <th></th>\n",
       "      <th>R&amp;D Spend</th>\n",
       "      <th>Administration</th>\n",
       "      <th>Marketing Spend</th>\n",
       "      <th>State</th>\n",
       "      <th>Profit</th>\n",
       "    </tr>\n",
       "  </thead>\n",
       "  <tbody>\n",
       "    <tr>\n",
       "      <th>0</th>\n",
       "      <td>165349.20</td>\n",
       "      <td>136897.80</td>\n",
       "      <td>471784.10</td>\n",
       "      <td>New York</td>\n",
       "      <td>192261.83</td>\n",
       "    </tr>\n",
       "    <tr>\n",
       "      <th>1</th>\n",
       "      <td>162597.70</td>\n",
       "      <td>151377.59</td>\n",
       "      <td>443898.53</td>\n",
       "      <td>California</td>\n",
       "      <td>191792.06</td>\n",
       "    </tr>\n",
       "    <tr>\n",
       "      <th>2</th>\n",
       "      <td>153441.51</td>\n",
       "      <td>101145.55</td>\n",
       "      <td>407934.54</td>\n",
       "      <td>Florida</td>\n",
       "      <td>191050.39</td>\n",
       "    </tr>\n",
       "    <tr>\n",
       "      <th>3</th>\n",
       "      <td>144372.41</td>\n",
       "      <td>118671.85</td>\n",
       "      <td>383199.62</td>\n",
       "      <td>New York</td>\n",
       "      <td>182901.99</td>\n",
       "    </tr>\n",
       "    <tr>\n",
       "      <th>4</th>\n",
       "      <td>142107.34</td>\n",
       "      <td>91391.77</td>\n",
       "      <td>366168.42</td>\n",
       "      <td>Florida</td>\n",
       "      <td>166187.94</td>\n",
       "    </tr>\n",
       "  </tbody>\n",
       "</table>\n",
       "</div>"
      ],
      "text/plain": [
       "   R&D Spend  Administration  Marketing Spend       State     Profit\n",
       "0  165349.20       136897.80        471784.10    New York  192261.83\n",
       "1  162597.70       151377.59        443898.53  California  191792.06\n",
       "2  153441.51       101145.55        407934.54     Florida  191050.39\n",
       "3  144372.41       118671.85        383199.62    New York  182901.99\n",
       "4  142107.34        91391.77        366168.42     Florida  166187.94"
      ]
     },
     "execution_count": 3,
     "metadata": {},
     "output_type": "execute_result"
    }
   ],
   "source": [
    "# Viewing Dataset\n",
    "companies.head()"
   ]
  },
  {
   "cell_type": "code",
   "execution_count": 4,
   "id": "eeba1408",
   "metadata": {
    "scrolled": false
   },
   "outputs": [
    {
     "name": "stdout",
     "output_type": "stream",
     "text": [
      "[[0. 0. 0. ... 0. 0. 1.]\n",
      " [0. 0. 0. ... 1. 0. 0.]\n",
      " [0. 0. 0. ... 0. 1. 0.]\n",
      " ...\n",
      " [0. 0. 0. ... 1. 0. 0.]\n",
      " [0. 0. 0. ... 1. 0. 0.]\n",
      " [0. 0. 0. ... 0. 0. 1.]]\n"
     ]
    }
   ],
   "source": [
    "# Encoding categorical data\n",
    "from sklearn.preprocessing import LabelEncoder, OneHotEncoder\n",
    "labelencoder = LabelEncoder()\n",
    "onehotencoder = OneHotEncoder()\n",
    "x = onehotencoder.fit_transform(x).toarray()\n",
    "x[:, 3] = labelencoder.fit_transform(x[:, 3])\n",
    "\n",
    "print(x)"
   ]
  },
  {
   "cell_type": "code",
   "execution_count": 5,
   "id": "81fb8386",
   "metadata": {},
   "outputs": [
    {
     "name": "stdout",
     "output_type": "stream",
     "text": [
      "[0. 0. 0. ... 0. 0. 1.]\n"
     ]
    }
   ],
   "source": [
    "print(x[0])"
   ]
  },
  {
   "cell_type": "code",
   "execution_count": 6,
   "id": "79126ae5",
   "metadata": {},
   "outputs": [],
   "source": [
    "# Avoiding the dummy variable trap\n",
    "x = x[:,1:]"
   ]
  },
  {
   "cell_type": "code",
   "execution_count": 7,
   "id": "5a6f4f61",
   "metadata": {},
   "outputs": [],
   "source": [
    "# Splitting the dataset into the training set and test set\n",
    "from sklearn.model_selection import train_test_split\n",
    "x_train,x_test,y_train,y_test = train_test_split(x,y,test_size = 0.2,random_state = 0)"
   ]
  },
  {
   "cell_type": "code",
   "execution_count": 8,
   "id": "7fad7282",
   "metadata": {},
   "outputs": [
    {
     "data": {
      "text/html": [
       "<style>#sk-container-id-1 {color: black;}#sk-container-id-1 pre{padding: 0;}#sk-container-id-1 div.sk-toggleable {background-color: white;}#sk-container-id-1 label.sk-toggleable__label {cursor: pointer;display: block;width: 100%;margin-bottom: 0;padding: 0.3em;box-sizing: border-box;text-align: center;}#sk-container-id-1 label.sk-toggleable__label-arrow:before {content: \"▸\";float: left;margin-right: 0.25em;color: #696969;}#sk-container-id-1 label.sk-toggleable__label-arrow:hover:before {color: black;}#sk-container-id-1 div.sk-estimator:hover label.sk-toggleable__label-arrow:before {color: black;}#sk-container-id-1 div.sk-toggleable__content {max-height: 0;max-width: 0;overflow: hidden;text-align: left;background-color: #f0f8ff;}#sk-container-id-1 div.sk-toggleable__content pre {margin: 0.2em;color: black;border-radius: 0.25em;background-color: #f0f8ff;}#sk-container-id-1 input.sk-toggleable__control:checked~div.sk-toggleable__content {max-height: 200px;max-width: 100%;overflow: auto;}#sk-container-id-1 input.sk-toggleable__control:checked~label.sk-toggleable__label-arrow:before {content: \"▾\";}#sk-container-id-1 div.sk-estimator input.sk-toggleable__control:checked~label.sk-toggleable__label {background-color: #d4ebff;}#sk-container-id-1 div.sk-label input.sk-toggleable__control:checked~label.sk-toggleable__label {background-color: #d4ebff;}#sk-container-id-1 input.sk-hidden--visually {border: 0;clip: rect(1px 1px 1px 1px);clip: rect(1px, 1px, 1px, 1px);height: 1px;margin: -1px;overflow: hidden;padding: 0;position: absolute;width: 1px;}#sk-container-id-1 div.sk-estimator {font-family: monospace;background-color: #f0f8ff;border: 1px dotted black;border-radius: 0.25em;box-sizing: border-box;margin-bottom: 0.5em;}#sk-container-id-1 div.sk-estimator:hover {background-color: #d4ebff;}#sk-container-id-1 div.sk-parallel-item::after {content: \"\";width: 100%;border-bottom: 1px solid gray;flex-grow: 1;}#sk-container-id-1 div.sk-label:hover label.sk-toggleable__label {background-color: #d4ebff;}#sk-container-id-1 div.sk-serial::before {content: \"\";position: absolute;border-left: 1px solid gray;box-sizing: border-box;top: 0;bottom: 0;left: 50%;z-index: 0;}#sk-container-id-1 div.sk-serial {display: flex;flex-direction: column;align-items: center;background-color: white;padding-right: 0.2em;padding-left: 0.2em;position: relative;}#sk-container-id-1 div.sk-item {position: relative;z-index: 1;}#sk-container-id-1 div.sk-parallel {display: flex;align-items: stretch;justify-content: center;background-color: white;position: relative;}#sk-container-id-1 div.sk-item::before, #sk-container-id-1 div.sk-parallel-item::before {content: \"\";position: absolute;border-left: 1px solid gray;box-sizing: border-box;top: 0;bottom: 0;left: 50%;z-index: -1;}#sk-container-id-1 div.sk-parallel-item {display: flex;flex-direction: column;z-index: 1;position: relative;background-color: white;}#sk-container-id-1 div.sk-parallel-item:first-child::after {align-self: flex-end;width: 50%;}#sk-container-id-1 div.sk-parallel-item:last-child::after {align-self: flex-start;width: 50%;}#sk-container-id-1 div.sk-parallel-item:only-child::after {width: 0;}#sk-container-id-1 div.sk-dashed-wrapped {border: 1px dashed gray;margin: 0 0.4em 0.5em 0.4em;box-sizing: border-box;padding-bottom: 0.4em;background-color: white;}#sk-container-id-1 div.sk-label label {font-family: monospace;font-weight: bold;display: inline-block;line-height: 1.2em;}#sk-container-id-1 div.sk-label-container {text-align: center;}#sk-container-id-1 div.sk-container {/* jupyter's `normalize.less` sets `[hidden] { display: none; }` but bootstrap.min.css set `[hidden] { display: none !important; }` so we also need the `!important` here to be able to override the default hidden behavior on the sphinx rendered scikit-learn.org. See: https://github.com/scikit-learn/scikit-learn/issues/21755 */display: inline-block !important;position: relative;}#sk-container-id-1 div.sk-text-repr-fallback {display: none;}</style><div id=\"sk-container-id-1\" class=\"sk-top-container\"><div class=\"sk-text-repr-fallback\"><pre>LinearRegression()</pre><b>In a Jupyter environment, please rerun this cell to show the HTML representation or trust the notebook. <br />On GitHub, the HTML representation is unable to render, please try loading this page with nbviewer.org.</b></div><div class=\"sk-container\" hidden><div class=\"sk-item\"><div class=\"sk-estimator sk-toggleable\"><input class=\"sk-toggleable__control sk-hidden--visually\" id=\"sk-estimator-id-1\" type=\"checkbox\" checked><label for=\"sk-estimator-id-1\" class=\"sk-toggleable__label sk-toggleable__label-arrow\">LinearRegression</label><div class=\"sk-toggleable__content\"><pre>LinearRegression()</pre></div></div></div></div></div>"
      ],
      "text/plain": [
       "LinearRegression()"
      ]
     },
     "execution_count": 8,
     "metadata": {},
     "output_type": "execute_result"
    }
   ],
   "source": [
    "# Fitting multiple linear regression to the trining set\n",
    "from sklearn.linear_model import LinearRegression\n",
    "regressor = LinearRegression()\n",
    "regressor.fit(x_train, y_train)"
   ]
  },
  {
   "cell_type": "code",
   "execution_count": 9,
   "id": "dfd88752",
   "metadata": {},
   "outputs": [
    {
     "data": {
      "text/plain": [
       "array([119648.63824645, 118265.37432749, 119611.52633182, 118676.67547519,\n",
       "       118061.01304871, 117893.6772919 , 118404.63110007, 119942.37630382,\n",
       "       117831.75515567, 119509.30291994, 119372.839152  , 118643.79910695,\n",
       "       119240.36154921, 118615.68938211, 119089.62244256, 117795.61886426,\n",
       "       118931.14243637, 119089.62244256, 118611.05650308, 117831.75515567,\n",
       "       118001.52308799, 120214.31432239, 118676.67547519, 119657.76219614,\n",
       "       118931.38175896, 119041.56726519, 118275.15759221, 119667.37519383,\n",
       "       118787.77529348, 119089.62244256, 118245.03755069, 119365.71362438,\n",
       "       117707.61946034, 118808.83756031, 119373.05600689, 119228.22725224,\n",
       "       117831.75515567, 118676.67547519, 118676.67547519, 118931.21928408,\n",
       "       118196.01160427, 119089.62244256, 119267.12807959, 118680.38623202,\n",
       "       118613.00176189, 118755.55150519, 118673.4680869 , 119402.02080537,\n",
       "       118633.95285705, 118487.3774405 , 118676.67547519, 118676.67547519,\n",
       "       118960.143316  , 119023.24193348, 179412.25918048, 118725.20678043,\n",
       "       118633.54699933, 117831.75515567, 118389.96353036, 117987.19305776,\n",
       "       118677.41186634, 116675.89183277, 118952.62280771, 117878.34410375,\n",
       "       118780.08398299, 118939.43042654, 117966.6677881 , 117796.09780211,\n",
       "       117522.27984984, 118676.67547519, 118824.46901185, 119089.62244256,\n",
       "       118974.22537892, 117794.0358495 , 118686.64700846, 117847.91385324,\n",
       "       118693.45296694, 117612.18711117, 118746.07017695, 119110.92934854,\n",
       "       118676.67547519, 118996.87555227, 117245.39995447, 119114.62872715,\n",
       "       117767.40605992, 117611.0773762 , 117779.76244115, 118402.25090631,\n",
       "       118986.63554433, 117717.20437989, 117816.58927802, 119117.87692398,\n",
       "       117442.48461528, 119042.37483086, 118189.91401908, 117774.91275331,\n",
       "       118568.76827593, 117735.01204082, 117831.75515567, 118904.50441417,\n",
       "       118389.28505169, 118424.62686723, 117873.13100417, 118418.43262126,\n",
       "       118015.8621113 , 118461.89241143, 117281.19810587, 117831.75515567,\n",
       "       119089.62244256, 117993.23574893, 119089.62244256, 119089.62244256,\n",
       "       117916.30266865, 117831.75515567, 119089.62244256, 118112.48430195,\n",
       "       119089.62244256, 118975.88859164, 119832.98738623, 117553.86394159,\n",
       "       118649.56678244, 118710.7348367 , 118676.67547519, 118843.5436608 ,\n",
       "       118652.23369726, 119192.24218813, 117831.75515567, 119980.41204692,\n",
       "       119091.97216526, 119155.37920788, 117831.75515567, 117858.2375495 ,\n",
       "       119121.28470342, 118479.70159202, 118997.802954  , 117831.75515567,\n",
       "       118528.12344786, 117802.96051139, 118766.53595755, 118530.11836095,\n",
       "       119089.62244256, 118302.86098307, 117114.83738516, 117957.47978859,\n",
       "       120016.44616973, 117517.29731683, 119475.97762075, 119089.62244256,\n",
       "       118995.23284022, 119546.76417763, 119150.80477561, 118283.11099208,\n",
       "       119089.62244256, 120950.38861708, 118676.67547519, 119089.62244256,\n",
       "       118676.67547519, 118521.24740817, 117831.75515567, 119169.32605413,\n",
       "       119522.55732649, 119069.05107026, 116330.6212837 , 116220.45838942,\n",
       "       116893.44917556, 118676.67547519, 118676.67547519, 117906.12933343,\n",
       "       117797.30333066, 117855.37611124, 118747.56250065, 118136.71264752,\n",
       "       117789.42995905, 118676.67547519, 117003.04815389, 118797.08544544,\n",
       "       117654.82188657, 117721.78430257, 118417.70227038, 119063.55075484,\n",
       "       118676.67547519, 117831.75515567, 119193.74364417, 117724.8743643 ,\n",
       "       118738.02487498, 119021.43248654, 117227.10477016, 118447.09885781,\n",
       "       117532.34488193, 117684.16205906, 118676.67547519, 119347.90659175,\n",
       "       118145.27662139, 117831.75515567, 119184.55616748, 119089.62244256,\n",
       "       118676.67547519, 119146.38974405, 118162.8412525 , 117762.6721092 ])"
      ]
     },
     "execution_count": 9,
     "metadata": {},
     "output_type": "execute_result"
    }
   ],
   "source": [
    "# Predicting the test set results\n",
    "y_pred = regressor.predict(x_test)\n",
    "y_pred"
   ]
  },
  {
   "cell_type": "code",
   "execution_count": 10,
   "id": "de7acddd",
   "metadata": {},
   "outputs": [
    {
     "name": "stdout",
     "output_type": "stream",
     "text": [
      "[-22917.55489546    443.40243654 -23102.39332534 ...   2032.63701448\n",
      "   1619.69004711    774.7697276 ]\n"
     ]
    }
   ],
   "source": [
    "# Calculating the coefficient\n",
    "print(regressor.coef_)"
   ]
  },
  {
   "cell_type": "code",
   "execution_count": 11,
   "id": "9ab6587c",
   "metadata": {},
   "outputs": [
    {
     "name": "stdout",
     "output_type": "stream",
     "text": [
      "117056.98542807891\n"
     ]
    }
   ],
   "source": [
    "# Calculating the intercept\n",
    "print(regressor.intercept_)"
   ]
  },
  {
   "cell_type": "code",
   "execution_count": 12,
   "id": "038e2845",
   "metadata": {},
   "outputs": [
    {
     "data": {
      "text/plain": [
       "-0.0042787323259001475"
      ]
     },
     "execution_count": 12,
     "metadata": {},
     "output_type": "execute_result"
    }
   ],
   "source": [
    "# Calculating the R squared value\n",
    "from sklearn.metrics import r2_score\n",
    "r2_score(y_test, y_pred)"
   ]
  },
  {
   "cell_type": "code",
   "execution_count": null,
   "id": "181f4b8b",
   "metadata": {},
   "outputs": [],
   "source": []
  }
 ],
 "metadata": {
  "kernelspec": {
   "display_name": "Python 3 (ipykernel)",
   "language": "python",
   "name": "python3"
  },
  "language_info": {
   "codemirror_mode": {
    "name": "ipython",
    "version": 3
   },
   "file_extension": ".py",
   "mimetype": "text/x-python",
   "name": "python",
   "nbconvert_exporter": "python",
   "pygments_lexer": "ipython3",
   "version": "3.11.5"
  }
 },
 "nbformat": 4,
 "nbformat_minor": 5
}
